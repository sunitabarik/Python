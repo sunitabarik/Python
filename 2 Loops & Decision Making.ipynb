{
 "cells": [
  {
   "cell_type": "markdown",
   "metadata": {},
   "source": [
    "## Decision Making in Python"
   ]
  },
  {
   "cell_type": "markdown",
   "metadata": {},
   "source": [
    "###  For loop"
   ]
  },
  {
   "cell_type": "markdown",
   "metadata": {},
   "source": [
    "* for loops are traditionally used when you have a block of code which you want to repeat a fixed number of times. \n",
    "* The Python for statement iterates over the members of a sequence in order, executing the block each time."
   ]
  },
  {
   "cell_type": "markdown",
   "metadata": {},
   "source": [
    "__One way to use for loops__"
   ]
  },
  {
   "cell_type": "code",
   "execution_count": 15,
   "metadata": {},
   "outputs": [
    {
     "name": "stdout",
     "output_type": "stream",
     "text": [
      "[100, -5, 20, -8, 27]\n"
     ]
    }
   ],
   "source": [
    "list1 = [100, -5, 20, -8, 27]\n",
    "print(list1)"
   ]
  },
  {
   "cell_type": "code",
   "execution_count": 16,
   "metadata": {},
   "outputs": [
    {
     "name": "stdout",
     "output_type": "stream",
     "text": [
      "100\n",
      "-5\n",
      "20\n",
      "-8\n",
      "27\n"
     ]
    }
   ],
   "source": [
    "list1 = [100, -5, 20, -8, 27] # creates a list names list1 and assigns the given list to it\n",
    "\n",
    "for item in list1: # for each element (item) in list 1\n",
    "    print(item) # prints that item"
   ]
  },
  {
   "cell_type": "markdown",
   "metadata": {},
   "source": [
    "__Another way to use for loops__"
   ]
  },
  {
   "cell_type": "code",
   "execution_count": 17,
   "metadata": {},
   "outputs": [
    {
     "name": "stdout",
     "output_type": "stream",
     "text": [
      "100\n",
      "-5\n",
      "20\n",
      "-8\n",
      "27\n"
     ]
    }
   ],
   "source": [
    "# creates a list named list1 and assigns the given list to it\n",
    "\n",
    "list1 = [100, -5, 20, -8, 27] \n",
    "\n",
    "#for  variable i starting from 0 to length of list 1 (5) \n",
    "# (5 not included so from 0 to 4\n",
    "        \n",
    "for i in range(0, len(list1)): \n",
    "\n",
    "    print(list1[i])\n",
    "\n",
    "    \n",
    "# takes the ith element in list1 and prints it\n",
    "    "
   ]
  },
  {
   "cell_type": "markdown",
   "metadata": {},
   "source": [
    "__Dividing each number in a list by 2__"
   ]
  },
  {
   "cell_type": "code",
   "execution_count": 18,
   "metadata": {},
   "outputs": [
    {
     "ename": "TypeError",
     "evalue": "unsupported operand type(s) for /: 'list' and 'int'",
     "output_type": "error",
     "traceback": [
      "\u001b[0;31m---------------------------------------------------------------------------\u001b[0m",
      "\u001b[0;31mTypeError\u001b[0m                                 Traceback (most recent call last)",
      "\u001b[0;32m<ipython-input-18-003e858479b5>\u001b[0m in \u001b[0;36m<module>\u001b[0;34m\u001b[0m\n\u001b[1;32m      1\u001b[0m \u001b[0mlist1\u001b[0m \u001b[0;34m=\u001b[0m \u001b[0;34m[\u001b[0m\u001b[0;36m100\u001b[0m\u001b[0;34m,\u001b[0m \u001b[0;34m-\u001b[0m\u001b[0;36m5\u001b[0m\u001b[0;34m,\u001b[0m \u001b[0;36m20\u001b[0m\u001b[0;34m,\u001b[0m \u001b[0;34m-\u001b[0m\u001b[0;36m8\u001b[0m\u001b[0;34m,\u001b[0m \u001b[0;36m27\u001b[0m\u001b[0;34m]\u001b[0m\u001b[0;34m\u001b[0m\u001b[0;34m\u001b[0m\u001b[0m\n\u001b[0;32m----> 2\u001b[0;31m \u001b[0mlist1\u001b[0m\u001b[0;34m/\u001b[0m\u001b[0;36m2\u001b[0m\u001b[0;34m\u001b[0m\u001b[0;34m\u001b[0m\u001b[0m\n\u001b[0m",
      "\u001b[0;31mTypeError\u001b[0m: unsupported operand type(s) for /: 'list' and 'int'"
     ]
    }
   ],
   "source": [
    "list1 = [100, -5, 20, -8, 27] \n",
    "list1/2"
   ]
  },
  {
   "cell_type": "code",
   "execution_count": 19,
   "metadata": {},
   "outputs": [
    {
     "data": {
      "text/plain": [
       "[50.0, -2.5, 10.0, -4.0, 13.5]"
      ]
     },
     "execution_count": 19,
     "metadata": {},
     "output_type": "execute_result"
    }
   ],
   "source": [
    "divided_list = [] # creates an empty list\n",
    "        \n",
    "for i in range(0, len(list1)): \n",
    "    \n",
    "    divided_list.append(list1[i]/2) # divides the each element\n",
    "    # adds the result to the \"divided_list variable\n",
    "    \n",
    "\n",
    "divided_list"
   ]
  },
  {
   "cell_type": "markdown",
   "metadata": {},
   "source": [
    "########################################################################"
   ]
  },
  {
   "cell_type": "markdown",
   "metadata": {},
   "source": [
    "### While loop"
   ]
  },
  {
   "cell_type": "markdown",
   "metadata": {},
   "source": [
    "* A while loop statement in Python programming language repeatedly executes a target statement as long as a given condition is true.\n",
    "\n",
    "* When the condition becomes false, program control passes to the line immediately following the loop.\n"
   ]
  },
  {
   "cell_type": "code",
   "execution_count": 5,
   "metadata": {},
   "outputs": [
    {
     "name": "stdout",
     "output_type": "stream",
     "text": [
      "100\n",
      "5\n",
      "20\n",
      "-8\n",
      "27\n"
     ]
    }
   ],
   "source": [
    "# creates a list names list1 and assigns the given list to it\n",
    "\n",
    "list1 = [100, 5, 20, -8, 27] \n",
    "\n",
    "# creates a variable named i and assigns 0 to it\n",
    "\n",
    "i = 0 \n",
    "\n",
    "while i < len(list1): # while i is less than 5 (length of list1)\n",
    "    \n",
    "    print(list1[i]) #access the ith element of list1 and print it\n",
    "    \n",
    "    i+=1 # increase i by 1"
   ]
  },
  {
   "cell_type": "markdown",
   "metadata": {},
   "source": [
    "__Multiplying each number in a list by 2__"
   ]
  },
  {
   "cell_type": "code",
   "execution_count": 6,
   "metadata": {},
   "outputs": [
    {
     "data": {
      "text/plain": [
       "[100, 5, 20, -8, 27, 100, 5, 20, -8, 27]"
      ]
     },
     "execution_count": 6,
     "metadata": {},
     "output_type": "execute_result"
    }
   ],
   "source": [
    "list1 = [100, 5, 20, -8, 27] \n",
    "list1*2 # this is not what we intend to do"
   ]
  },
  {
   "cell_type": "code",
   "execution_count": 7,
   "metadata": {},
   "outputs": [
    {
     "data": {
      "text/plain": [
       "[200, 10, 40, -16, 54]"
      ]
     },
     "execution_count": 7,
     "metadata": {},
     "output_type": "execute_result"
    }
   ],
   "source": [
    "list1 = [100, 5, 20, -8, 27] \n",
    "\n",
    "multiplied_list = [] # creates an blank list\n",
    "\n",
    "# creates a variable named i and assigns 0 to it\n",
    "i = 0 \n",
    "\n",
    "while i < len(list1): # while i is less than 5 (length of list1)\n",
    "    \n",
    "    multiplied_list.append(list1[i]*2) # multiply each element by 2\n",
    "    # add the result to the multiplied_list\n",
    "    \n",
    "    i+=1 # increase i by 1\n",
    "    \n",
    "multiplied_list"
   ]
  },
  {
   "cell_type": "markdown",
   "metadata": {},
   "source": [
    "########################################################################"
   ]
  },
  {
   "cell_type": "markdown",
   "metadata": {},
   "source": [
    "### Nested loops"
   ]
  },
  {
   "cell_type": "markdown",
   "metadata": {},
   "source": [
    "* Using one loop inside another loop is called nested loop"
   ]
  },
  {
   "cell_type": "code",
   "execution_count": 8,
   "metadata": {},
   "outputs": [
    {
     "data": {
      "text/plain": [
       "[8, 16, 32, 64, 128, 16, 32, 64, 128, 256]"
      ]
     },
     "execution_count": 8,
     "metadata": {},
     "output_type": "execute_result"
    }
   ],
   "source": [
    "# Creates a list named list 1 and assigns the given elements to it\n",
    "\n",
    "list1 = [4, 8, 16, 32, 64] \n",
    "\n",
    "# Creates a list named list2 assigns the given elements to it\n",
    "\n",
    "list2 = [2, 4] \n",
    "\n",
    "# Creates a list named list3 without any elements\n",
    "list3 = [] \n",
    "\n",
    "# for  variable i starting from 0 to length of list2 (2) \n",
    "# (2 not included so i will take values 0 and 1\n",
    "\n",
    "for i in range(0, len(list2)):\n",
    "\n",
    "    # for  variable i starting from 0 to length of list1 (5) \n",
    "    # (5 not included so i will take values 0, 1, 2, 3, 4\n",
    "        \n",
    "    for j in range(0, len(list1)): \n",
    "        \n",
    "        \n",
    "        list3.append(list2[i]*list1[j]) \n",
    "        \n",
    "        # will take the ith value from list2 and jth value from list1 \n",
    "        # multiply them and then add the result the list3\n",
    "list3    "
   ]
  },
  {
   "cell_type": "markdown",
   "metadata": {},
   "source": [
    "########################################################################"
   ]
  },
  {
   "cell_type": "markdown",
   "metadata": {},
   "source": [
    "### Conditional Statements"
   ]
  },
  {
   "cell_type": "markdown",
   "metadata": {},
   "source": [
    "* Conditional statements are used to perform different computations or actions depending on whether a condition evaluates to true or false.\n",
    "\n",
    "* The condition usually uses comparisons and arithmetic expressions with variables. \n",
    "\n",
    "* These expressions are evaluated to True or False. \n",
    "\n",
    "* The statements for the decision taking are called conditional statements"
   ]
  },
  {
   "cell_type": "code",
   "execution_count": 9,
   "metadata": {},
   "outputs": [
    {
     "name": "stdout",
     "output_type": "stream",
     "text": [
      "a is greater than b\n"
     ]
    }
   ],
   "source": [
    "a = 80 # creates a variable a and assigns 80 to it\n",
    "\n",
    "b = 69 # creates a variable b and assigns 60 to it\n",
    "\n",
    "if a<b: # check if a is less than b\n",
    "    \n",
    "    # execute this line if the above line is true\n",
    "    print(\"a is less than b\") \n",
    "    \n",
    "else: \n",
    "    \n",
    "    # execute this line if the conditional statement is not true\n",
    "    print(\"a is greater than b\") "
   ]
  },
  {
   "cell_type": "code",
   "execution_count": 10,
   "metadata": {},
   "outputs": [
    {
     "ename": "NameError",
     "evalue": "name 'c' is not defined",
     "output_type": "error",
     "traceback": [
      "\u001b[0;31m---------------------------------------------------------------------------\u001b[0m",
      "\u001b[0;31mNameError\u001b[0m                                 Traceback (most recent call last)",
      "\u001b[0;32m<ipython-input-10-1fe4031b9c98>\u001b[0m in \u001b[0;36m<module>\u001b[0;34m\u001b[0m\n\u001b[1;32m      8\u001b[0m \u001b[0;34m\u001b[0m\u001b[0m\n\u001b[1;32m      9\u001b[0m \u001b[0;34m\u001b[0m\u001b[0m\n\u001b[0;32m---> 10\u001b[0;31m \u001b[0mc\u001b[0m\u001b[0;34m\u001b[0m\u001b[0;34m\u001b[0m\u001b[0m\n\u001b[0m",
      "\u001b[0;31mNameError\u001b[0m: name 'c' is not defined"
     ]
    }
   ],
   "source": [
    "a = 80 # creates a variable a and aassigns 80 to it\n",
    "\n",
    "b = 60 # creates a variable b and aassigns 60 to it\n",
    "\n",
    "if a<b: # check if a is less than b\n",
    "    \n",
    "    c = a/b # execute this line if the above line is true\n",
    "\n",
    "    \n",
    "c"
   ]
  },
  {
   "cell_type": "code",
   "execution_count": 11,
   "metadata": {},
   "outputs": [
    {
     "name": "stdout",
     "output_type": "stream",
     "text": [
      "4800\n"
     ]
    }
   ],
   "source": [
    "a = 80 # creates a variable a and assigns 80 to it\n",
    "\n",
    "b = 60 # creates a variable b and assigns 60 to it\n",
    "\n",
    "if a<20: # if a is less than 20 do this what is below\n",
    "    print(a/b)  \n",
    "    \n",
    "elif a<40: # if a is than 40 do what is below\n",
    "    print(a/(b*2))\n",
    "    \n",
    "elif a<60: # if a is than 60 do what is below\n",
    "    print(a/(b*0.5))\n",
    "    \n",
    "else: # else do what is below (The below line will be executed)\n",
    "    print(a*b)"
   ]
  },
  {
   "cell_type": "markdown",
   "metadata": {},
   "source": [
    "#######################################################################"
   ]
  },
  {
   "cell_type": "markdown",
   "metadata": {},
   "source": [
    "## Examples"
   ]
  },
  {
   "cell_type": "markdown",
   "metadata": {},
   "source": [
    "### Eample 1"
   ]
  },
  {
   "cell_type": "code",
   "execution_count": 12,
   "metadata": {},
   "outputs": [],
   "source": [
    "# for a given list of numbers, compute the average\n",
    "\n",
    "def get_average(list_of_numbers): \n",
    "    \n",
    "    # our code goes in here\n",
    "    \n",
    "    return"
   ]
  },
  {
   "cell_type": "markdown",
   "metadata": {},
   "source": [
    "### Eample 2"
   ]
  },
  {
   "cell_type": "code",
   "execution_count": 13,
   "metadata": {},
   "outputs": [],
   "source": [
    "# for a given list of numbers and strings, find the sum of numbers\n",
    "\n",
    "def get_sum(a_list): \n",
    "    \n",
    "    # our code goes in here\n",
    "    \n",
    "    return"
   ]
  },
  {
   "cell_type": "markdown",
   "metadata": {},
   "source": [
    "### Eample 3"
   ]
  },
  {
   "cell_type": "code",
   "execution_count": 17,
   "metadata": {},
   "outputs": [],
   "source": [
    "# for a given list of negative and positive numbers, \n",
    "# filter the list and only return negative values\n",
    "\n",
    "def get_neg(a_list):\n",
    "    \n",
    "    #your code goes in here\n",
    "    \n",
    "    return"
   ]
  },
  {
   "cell_type": "markdown",
   "metadata": {},
   "source": [
    "### Eample 4"
   ]
  },
  {
   "cell_type": "code",
   "execution_count": 18,
   "metadata": {},
   "outputs": [],
   "source": [
    "# for a given list, find the most frequently occuring item\n",
    "\n",
    "def get_mode(a_list):\n",
    "    \n",
    "    # your code goes in here\n",
    "    \n",
    "    return "
   ]
  },
  {
   "cell_type": "markdown",
   "metadata": {},
   "source": [
    "### Eample 5"
   ]
  },
  {
   "cell_type": "code",
   "execution_count": 19,
   "metadata": {},
   "outputs": [],
   "source": [
    "# find the perimeter of a square\n",
    "\n",
    "def get_square_perimeter(a):\n",
    "    \n",
    "    # your code goes in here\n",
    "    \n",
    "    return "
   ]
  },
  {
   "cell_type": "markdown",
   "metadata": {},
   "source": [
    "### Eample 6"
   ]
  },
  {
   "cell_type": "code",
   "execution_count": 20,
   "metadata": {},
   "outputs": [],
   "source": [
    "# convert oz to grams\n",
    "\n",
    "def convert_oz_gr(oz):\n",
    "    \n",
    "    # your code goes in here\n",
    "    \n",
    "    return"
   ]
  }
 ],
 "metadata": {
  "kernelspec": {
   "display_name": "Python 3 (ipykernel)",
   "language": "python",
   "name": "python3"
  },
  "language_info": {
   "codemirror_mode": {
    "name": "ipython",
    "version": 3
   },
   "file_extension": ".py",
   "mimetype": "text/x-python",
   "name": "python",
   "nbconvert_exporter": "python",
   "pygments_lexer": "ipython3",
   "version": "3.9.7"
  },
  "toc": {
   "nav_menu": {},
   "number_sections": true,
   "sideBar": true,
   "skip_h1_title": false,
   "toc_cell": false,
   "toc_position": {
    "height": "704px",
    "left": "0px",
    "right": "919px",
    "top": "110px",
    "width": "212px"
   },
   "toc_section_display": "block",
   "toc_window_display": false
  },
  "varInspector": {
   "cols": {
    "lenName": 16,
    "lenType": 16,
    "lenVar": 40
   },
   "kernels_config": {
    "python": {
     "delete_cmd_postfix": "",
     "delete_cmd_prefix": "del ",
     "library": "var_list.py",
     "varRefreshCmd": "print(var_dic_list())"
    },
    "r": {
     "delete_cmd_postfix": ") ",
     "delete_cmd_prefix": "rm(",
     "library": "var_list.r",
     "varRefreshCmd": "cat(var_dic_list()) "
    }
   },
   "types_to_exclude": [
    "module",
    "function",
    "builtin_function_or_method",
    "instance",
    "_Feature"
   ],
   "window_display": false
  }
 },
 "nbformat": 4,
 "nbformat_minor": 2
}
